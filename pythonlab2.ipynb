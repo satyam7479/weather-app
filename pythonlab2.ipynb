{
  "nbformat": 4,
  "nbformat_minor": 0,
  "metadata": {
    "colab": {
      "name": "Untitled0.ipynb",
      "provenance": [],
      "collapsed_sections": [],
      "authorship_tag": "ABX9TyMs81hlrz3xOAYLy756xd/Z",
      "include_colab_link": true
    },
    "kernelspec": {
      "name": "python3",
      "display_name": "Python 3"
    }
  },
  "cells": [
    {
      "cell_type": "markdown",
      "metadata": {
        "id": "view-in-github",
        "colab_type": "text"
      },
      "source": [
        "<a href=\"https://colab.research.google.com/github/satyam7479/weather-app/blob/master/pythonlab2.ipynb\" target=\"_parent\"><img src=\"https://colab.research.google.com/assets/colab-badge.svg\" alt=\"Open In Colab\"/></a>"
      ]
    },
    {
      "cell_type": "code",
      "metadata": {
        "colab": {
          "base_uri": "https://localhost:8080/"
        },
        "id": "ER-3APfvfmua",
        "outputId": "90c452de-a4ed-41b8-b06f-cc5f927e244e"
      },
      "source": [
        "name=input(\"Enter your  name: \")\r\n",
        "age=input(\"Enter your age: \")\r\n",
        "address=input(\"Enter your address: \")\r\n",
        "print(\"Your details are: \",name,age,address,sep=\"/n\")"
      ],
      "execution_count": 4,
      "outputs": [
        {
          "output_type": "stream",
          "text": [
            "Enter your  name: Satyam\n",
            "Enter your age: 20\n",
            "Enter your address: giet\n",
            "Your details are: /nSatyam/n20/ngiet\n"
          ],
          "name": "stdout"
        }
      ]
    },
    {
      "cell_type": "markdown",
      "metadata": {
        "id": "K21cLbY0rwnL"
      },
      "source": [
        "program to input name,age,address"
      ]
    },
    {
      "cell_type": "code",
      "metadata": {
        "colab": {
          "base_uri": "https://localhost:8080/"
        },
        "id": "Z-doesBIjXDd",
        "outputId": "f9cfe78d-8a39-4e9e-de92-c402f680d9cb"
      },
      "source": [
        "sub1=int(input(\"Enter your marks: \"))\r\n",
        "sub2=int(input(\"Enter your marks: \"))\r\n",
        "sub3=int(input(\"Enter your marks: \"))\r\n",
        "sum=sub1+sub2+sub3\r\n",
        "print(\"Sum of your marks: \",sum)\r\n",
        "print(\"Percentage: \",(sum/300)*100)"
      ],
      "execution_count": 5,
      "outputs": [
        {
          "output_type": "stream",
          "text": [
            "Enter your marks: 85\n",
            "Enter your marks: 91\n",
            "Enter your marks: 80\n",
            "Sum of your marks:  256\n",
            "Percentage:  85.33333333333334\n"
          ],
          "name": "stdout"
        }
      ]
    },
    {
      "cell_type": "markdown",
      "metadata": {
        "id": "4Rjt_rgOr8E6"
      },
      "source": [
        "Program to input your marks for three subjects then find the sum and percentage"
      ]
    },
    {
      "cell_type": "code",
      "metadata": {
        "colab": {
          "base_uri": "https://localhost:8080/"
        },
        "id": "E7Jp47sIl_jd",
        "outputId": "ab88fe4b-f15e-4148-bd52-8b3de38db936"
      },
      "source": [
        "r=int(input(\"Enter your radius: \"))\r\n",
        "print(\"Area of circle: \",3.14*r*r)"
      ],
      "execution_count": 6,
      "outputs": [
        {
          "output_type": "stream",
          "text": [
            "Enter your radius: 4\n",
            "Area of circle:  50.24\n"
          ],
          "name": "stdout"
        }
      ]
    },
    {
      "cell_type": "markdown",
      "metadata": {
        "id": "u1ZvheLtsK0Z"
      },
      "source": [
        "program for area of circle"
      ]
    },
    {
      "cell_type": "code",
      "metadata": {
        "colab": {
          "base_uri": "https://localhost:8080/"
        },
        "id": "LvaSGPIXmgXD",
        "outputId": "e55cfaec-7bd7-4db7-9307-a581573ffe85"
      },
      "source": [
        "b=int(input(\"Enter base of triangle: \"))\r\n",
        "h=int(input(\"Enter height of triangle: \"))\r\n",
        "s=int(input(\"Enter side of triangle: \"))\r\n",
        "t=int(input(\"Enter side of triangle: \"))\r\n",
        "print(\"Area of triangle: \",(b*h)/2)\r\n",
        "print(\"Perimeter of triangle: \",b+s+t)"
      ],
      "execution_count": 9,
      "outputs": [
        {
          "output_type": "stream",
          "text": [
            "Enter base of triangle: 5\n",
            "Enter height of triangle: 2\n",
            "Enter side of triangle: 1\n",
            "Enter side of triangle: 3\n",
            "Area of triangle:  5.0\n",
            "Perimeter of triangle:  9\n"
          ],
          "name": "stdout"
        }
      ]
    },
    {
      "cell_type": "markdown",
      "metadata": {
        "id": "esAgcsUtsQkg"
      },
      "source": [
        "program for perimeter and area of triangle"
      ]
    },
    {
      "cell_type": "code",
      "metadata": {
        "colab": {
          "base_uri": "https://localhost:8080/"
        },
        "id": "dOvj0DmdoRGH",
        "outputId": "d502887a-3758-4149-9de9-2c4b84755557"
      },
      "source": [
        "r=int(input(\"Enter Radius of sphere: \"))\r\n",
        "print(\"Volume of Sphere is: \",4.19*r*r*r)"
      ],
      "execution_count": 10,
      "outputs": [
        {
          "output_type": "stream",
          "text": [
            "Enter Radius of sphere: 3\n",
            "Volume of Sphere is:  113.13\n"
          ],
          "name": "stdout"
        }
      ]
    },
    {
      "cell_type": "markdown",
      "metadata": {
        "id": "FXtc1K65sYgA"
      },
      "source": [
        "program for volume of sphere"
      ]
    },
    {
      "cell_type": "code",
      "metadata": {
        "colab": {
          "base_uri": "https://localhost:8080/"
        },
        "id": "fLjgR2KNpHXD",
        "outputId": "a4b7dd67-7d03-40e8-ab64-53b75a7e8ad3"
      },
      "source": [
        "f=(\"a\",\"b\",\"c\",\"d\",\"e\")\r\n",
        "print(f)"
      ],
      "execution_count": 13,
      "outputs": [
        {
          "output_type": "stream",
          "text": [
            "('a', 'b', 'c', 'd', 'e')\n"
          ],
          "name": "stdout"
        }
      ]
    },
    {
      "cell_type": "markdown",
      "metadata": {
        "id": "LsahjtQ_sejg"
      },
      "source": [
        "program to display five fruits name list"
      ]
    },
    {
      "cell_type": "code",
      "metadata": {
        "colab": {
          "base_uri": "https://localhost:8080/"
        },
        "id": "3zPb_tmkrSP-",
        "outputId": "1c8b9ef3-3616-469f-ba63-cd86685a4e0f"
      },
      "source": [
        "s=input(\"Enter a string: \")\r\n",
        "print(s[::-1])"
      ],
      "execution_count": 16,
      "outputs": [
        {
          "output_type": "stream",
          "text": [
            "Enter a string: 47\n",
            "74\n"
          ],
          "name": "stdout"
        }
      ]
    },
    {
      "cell_type": "markdown",
      "metadata": {
        "id": "56luUzu6slWA"
      },
      "source": [
        "program for reverse of a string"
      ]
    }
  ]
}